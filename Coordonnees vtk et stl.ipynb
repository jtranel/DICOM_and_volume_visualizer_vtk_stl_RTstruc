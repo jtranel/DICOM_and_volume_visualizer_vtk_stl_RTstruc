{
 "cells": [
  {
   "cell_type": "code",
   "execution_count": 1,
   "metadata": {
    "collapsed": true
   },
   "outputs": [],
   "source": [
    "###############################################\n",
    "#Chapitre : Importer les vtk et les visualiser#\n",
    "###############################################\n",
    "\n",
    "import sys\n",
    "import gdcm\n",
    "import dicom\n",
    "import os\n",
    "import vtkgdcm\n",
    "import numpy\n",
    "import vtk\n",
    "import itk\n",
    "sys.path.append('/usr/lib/python27/dist-packages/')\n",
    "import vtkDICOMPython\n",
    "\n",
    "from vtk.util.misc import vtkGetDataRoot"
   ]
  },
  {
   "cell_type": "code",
   "execution_count": 2,
   "metadata": {
    "collapsed": true
   },
   "outputs": [],
   "source": [
    "#Créer la visualisation\n",
    "\n",
    "\n",
    "# Create a rendering window and renderer\n",
    "ren = vtk.vtkRenderer()\n",
    "ren.SetBackground(0.5,0.5,0.5)\n",
    "renWin = vtk.vtkRenderWindow()\n",
    "renWin.AddRenderer(ren)\n",
    "renWin.SetSize(1024, 1024)\n",
    "\n",
    "# Create a renderwindowinteractor\n",
    "iren = vtk.vtkRenderWindowInteractor()\n",
    "iren.SetRenderWindow(renWin)\n",
    "\n",
    "# Enable user interface interactor\n",
    "iren.Initialize()\n",
    "renWin.Render()"
   ]
  },
  {
   "cell_type": "code",
   "execution_count": 3,
   "metadata": {
    "collapsed": false
   },
   "outputs": [],
   "source": [
    "# Lire les DICOM images (version VTK)  NB: par défaut, critère du image number\n",
    "PathDicom2=\"/home/jonathan/Bureau/DICOMcochon/UH/\"\n",
    "\n",
    "directory2 = vtkDICOMPython.vtkDICOMDirectory()\n",
    "directory2.SetDirectoryName(PathDicom2)\n",
    "directory2.Update()\n",
    "\n",
    "readerImg = vtkDICOMPython.vtkDICOMReader()\n",
    "readerImg.SetFileNames(directory2.GetFileNamesForSeries(0))\n",
    "readerImg.Update()\n",
    "\n",
    "dim = readerImg.GetOutput().GetDimensions()\n",
    "\n",
    "# Lire les DICOM images par coupes\n",
    "\n",
    "actorImg1 = vtk.vtkImageActor()#Afficher la 1ère coupe au choix\n",
    "actorImg1.SetInputData(readerImg.GetOutput())\n",
    "actorImg2 = vtk.vtkImageActor()#Afficher la 2ème coupe au choix\n",
    "actorImg2.SetInputData(readerImg.GetOutput())\n",
    "actorImg3 = vtk.vtkImageActor()#Afficher la 3ème coupe au choix\n",
    "actorImg3.SetInputData(readerImg.GetOutput())\n",
    "\n",
    "mapperImg1 = vtk.vtkImageSliceMapper().SafeDownCast(actorImg1.GetMapper())\n",
    "mapperImg2 = vtk.vtkImageSliceMapper().SafeDownCast(actorImg2.GetMapper())\n",
    "mapperImg3 = vtk.vtkImageSliceMapper().SafeDownCast(actorImg3.GetMapper())\n",
    "actorImg1.GetMapper()\n",
    "actorImg2.GetMapper()\n",
    "actorImg3.GetMapper()\n",
    "mapperImg1.SetSliceNumber(0)\n",
    "mapperImg2.SetSliceNumber(dim[2]/5)\n",
    "mapperImg3.SetSliceNumber(dim[2]/3)\n",
    "\n",
    "ren.AddActor(actorImg1)\n",
    "ren.AddActor(actorImg2)\n",
    "ren.AddActor(actorImg3)\n",
    "\n",
    "ren.ResetCamera()\n",
    "renWin.Render()"
   ]
  },
  {
   "cell_type": "code",
   "execution_count": 4,
   "metadata": {
    "collapsed": false
   },
   "outputs": [],
   "source": [
    "#Marching Cubes DICOM Images\n",
    "\n",
    "ImgMC = vtk.vtkMarchingCubes()\n",
    "ImgMC.SetInputConnection(readerImg.GetOutputPort())\n",
    "ImgMC.GenerateValues(1,150,300)\n",
    "ImgMC.Update()\n",
    "\n",
    "dim = readerImg.GetOutput().GetDimensions()\n",
    "\n",
    "#Remplacer les polyDataNormals d'entrées avec les PolyData transformées\n",
    "NormalsMC=vtk.vtkPolyDataNormals()\n",
    "NormalsMC.SetInputConnection(ImgMC.GetOutputPort())\n",
    "#Normals.SetFeatureAngle(60)\n",
    "NormalsMC.Update()\n",
    "\n",
    "stripperMC=vtk.vtkStripper()\n",
    "stripperMC.SetInputConnection(NormalsMC.GetOutputPort())\n",
    "stripperMC.Update()\n",
    "\n",
    "mapperMC = vtk.vtkPolyDataMapper()\n",
    "mapperMC.SetInputConnection(stripperMC.GetOutputPort())\n",
    "mapperMC.ScalarVisibilityOff()\n",
    "actorMC = vtk.vtkActor()\n",
    "actorMC.SetMapper(mapperMC)\n",
    "actorMC.GetProperty().SetColor(0.7,1,0.5)\n",
    "\n",
    "ren.AddActor(actorMC)\n",
    "\n",
    "ren.ResetCamera()\n",
    "renWin.Render()"
   ]
  },
  {
   "cell_type": "code",
   "execution_count": 5,
   "metadata": {
    "collapsed": true
   },
   "outputs": [],
   "source": [
    "#RT Structure 2\n",
    "\n",
    "#2: HolmiumG\n",
    "filenameHoG=\"/home/jonathan/Bureau/DICOMcochon/vtk/Francisco.vtk\"\n",
    "RTStrucHoG = vtk.vtkPolyDataReader()\n",
    "RTStrucHoG.SetFileName(filenameHoG)\n",
    "RTStrucHoG.Update()\n",
    "\n",
    "#2: HoG\n",
    "mapperHoG = vtk.vtkPolyDataMapper()\n",
    "#mapperHoG.SetInputConnection(TransfFiltreHoG.GetOutputPort())\n",
    "mapperHoG.SetInputConnection(RTStrucHoG.GetOutputPort())\n",
    "mapperHoG.ScalarVisibilityOff()\n",
    "actorHoG = vtk.vtkActor()\n",
    "actorHoG.SetMapper(mapperHoG)\n",
    "actorHoG.GetProperty().SetColor(1,0,1)\n",
    "\n",
    "#ren.AddActor(actorHoG)\n",
    "\n",
    "ren.ResetCamera()\n",
    "renWin.Render()\n"
   ]
  },
  {
   "cell_type": "code",
   "execution_count": 6,
   "metadata": {
    "collapsed": false
   },
   "outputs": [],
   "source": [
    "#Utiliser la matrice des DICOM images pour les lier avec les vtk\n",
    "Transf1=vtk.vtkTransform()\n",
    "Transf1.Scale(-1.,-1.,1.)\n",
    "Transf1.Update()\n",
    "\n",
    "TransfFiltre1=vtk.vtkTransformPolyDataFilter()\n",
    "TransfFiltre1.SetInputConnection(RTStrucHoG.GetOutputPort())\n",
    "TransfFiltre1.SetTransform(Transf1)\n",
    "TransfFiltre1.Update()\n",
    "\n",
    "Transf=vtk.vtkTransform()\n",
    "Transf.SetMatrix(readerImg.GetPatientMatrix())\n",
    "Transf.Inverse()\n",
    "Transf.Update()\n",
    "\n",
    "TransfFiltre=vtk.vtkTransformPolyDataFilter()\n",
    "TransfFiltre.SetInputConnection(TransfFiltre1.GetOutputPort())\n",
    "TransfFiltre.SetTransform(Transf)\n",
    "TransfFiltre.Update()\n",
    "\n",
    "\n",
    "Transf2=vtk.vtkTransform()\n",
    "Transf2.Scale(1.,1.,-1.)\n",
    "Transf2.Update()\n",
    "\n",
    "TransfFiltre2=vtk.vtkTransformPolyDataFilter()\n",
    "TransfFiltre2.SetInputConnection(TransfFiltre.GetOutputPort())\n",
    "TransfFiltre2.SetTransform(Transf2)\n",
    "TransfFiltre2.Update()\n",
    "\n",
    "\n",
    "\n",
    "\n",
    "NormalsMC=vtk.vtkPolyDataNormals()\n",
    "NormalsMC.SetInputConnection(TransfFiltre2.GetOutputPort())\n",
    "#Normals.SetFeatureAngle(60)\n",
    "NormalsMC.Update()\n",
    "\n",
    "#2: HoG\n",
    "mapperHoG = vtk.vtkPolyDataMapper()\n",
    "mapperHoG.SetInputConnection(NormalsMC.GetOutputPort())\n",
    "#mapperHoG.SetInputConnection(RTStrucHoG.GetOutputPort())\n",
    "mapperHoG.ScalarVisibilityOff()\n",
    "actorHoG1 = vtk.vtkActor()\n",
    "actorHoG1.SetMapper(mapperHoG)\n",
    "actorHoG1.GetProperty().SetColor(0,1,1)\n",
    "\n",
    "ren.AddActor(actorHoG1)\n",
    "\n",
    "ren.ResetCamera()\n",
    "renWin.Render()"
   ]
  },
  {
   "cell_type": "code",
   "execution_count": null,
   "metadata": {
    "collapsed": true
   },
   "outputs": [],
   "source": [
    "ren.GetActiveCamera().Yaw(10)\n",
    "ren.ResetCamera()\n",
    "renWin.Render()"
   ]
  },
  {
   "cell_type": "code",
   "execution_count": 7,
   "metadata": {
    "collapsed": false
   },
   "outputs": [],
   "source": [
    "\n",
    "iren.Start()\n"
   ]
  }
 ],
 "metadata": {
  "kernelspec": {
   "display_name": "Python 2",
   "language": "python",
   "name": "python2"
  },
  "language_info": {
   "codemirror_mode": {
    "name": "ipython",
    "version": 2
   },
   "file_extension": ".py",
   "mimetype": "text/x-python",
   "name": "python",
   "nbconvert_exporter": "python",
   "pygments_lexer": "ipython2",
   "version": "2.7.12"
  }
 },
 "nbformat": 4,
 "nbformat_minor": 2
}
