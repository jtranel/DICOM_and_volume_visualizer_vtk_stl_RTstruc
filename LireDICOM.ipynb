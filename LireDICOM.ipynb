{
 "cells": [
  {
   "cell_type": "code",
   "execution_count": 1,
   "metadata": {
    "collapsed": true
   },
   "outputs": [],
   "source": [
    "import vtkgdcm\n",
    "import vtk\n",
    "import gdcm\n",
    "import os\n",
    "import dicom"
   ]
  },
  {
   "cell_type": "code",
   "execution_count": 2,
   "metadata": {
    "collapsed": true
   },
   "outputs": [],
   "source": [
    "PathDicom = \"/home/jonathan/Bureau/DICOM/\"\n",
    "lstFilesDCM = []  # create an empty list\n",
    "for dirName, subdirList, fileList in os.walk(PathDicom):\n",
    "    for filename in fileList:\n",
    "        if \".dcm\" in filename.lower():  # check whether the file's DICOM\n",
    "            lstFilesDCM.append(os.path.join(dirName,filename))"
   ]
  },
  {
   "cell_type": "code",
   "execution_count": 7,
   "metadata": {
    "collapsed": false
   },
   "outputs": [
    {
     "name": "stdout",
     "output_type": "stream",
     "text": [
      "(0008, 0005) Specific Character Set              CS: 'ISO_IR 100'\n",
      "(0008, 0008) Image Type                          CS: ['DERIVED', 'SECONDARY', 'AXIAL']\n",
      "(0008, 0012) Instance Creation Date              DA: '20161117'\n",
      "(0008, 0013) Instance Creation Time              TM: '113016.000000'\n",
      "(0008, 0016) SOP Class UID                       UI: CT Image Storage\n",
      "(0008, 0018) SOP Instance UID                    UI: 1.2.276.0.20.1.4.4.152426479098.1760.1479378616.531250\n",
      "(0008, 0020) Study Date                          DA: '20161117'\n",
      "(0008, 0021) Series Date                         DA: '20150618'\n",
      "(0008, 0023) Content Date                        DA: '20161117'\n",
      "(0008, 0030) Study Time                          TM: ''\n",
      "(0008, 0033) Content Time                        TM: '113016.000000'\n",
      "(0008, 0050) Accession Number                    SH: ''\n",
      "(0008, 0060) Modality                            CS: 'CT'\n",
      "(0008, 0070) Manufacturer                        LO: 'BrainLAB'\n",
      "(0008, 0090) Referring Physician's Name          PN: ''\n",
      "(0008, 1010) Station Name                        SH: 'SRC-IPLAN2'\n",
      "(0008, 1030) Study Description                   LO: 'IRM Neuronavigation'\n",
      "(0008, 103e) Series Description                  LO: 'SCAN REPERAGE STEREOTAXIQUE APC; CRANEcps fines  1.0  H30s; CRAN'\n",
      "(0008, 1090) Manufacturer's Model Name           LO: 'PatXferRT'\n",
      "(0009, 0010) Private Creator                     LO: 'BrainLAB_Conversion'\n",
      "(0009, 1001) [Export Platform Name]              LO: 'DefaultTemplate'\n",
      "(0010, 0010) Patient's Name                      PN: 'Antomarchi^Chantal'\n",
      "(0010, 0020) Patient ID                          LO: 'CD0033021'\n",
      "(0010, 0030) Patient's Birth Date                DA: '19600312'\n",
      "(0010, 0040) Patient's Sex                       CS: 'F'\n",
      "(0010, 1030) Patient's Weight                    DS: '50'\n",
      "(0018, 0050) Slice Thickness                     DS: '1'\n",
      "(0018, 0060) KVP                                 DS: ''\n",
      "(0018, 1020) Software Version(s)                 LO: '1.5.0 Build 118064'\n",
      "(0018, 5100) Patient Position                    CS: 'HFS'\n",
      "(0020, 000d) Study Instance UID                  UI: 1.2.276.0.20.1.2.4.152426479098.1760.1479378616.359375\n",
      "(0020, 000e) Series Instance UID                 UI: 1.2.276.0.20.1.3.4.152426479098.1760.1479378616.390625\n",
      "(0020, 0010) Study ID                            SH: 'CD100239042'\n",
      "(0020, 0011) Series Number                       IS: '0'\n",
      "(0020, 0012) Acquisition Number                  IS: ''\n",
      "(0020, 0013) Instance Number                     IS: '165'\n",
      "(0020, 0032) Image Position (Patient)            DS: ['-186.07914588103', '-192.42633796274', '-64.425102710711']\n",
      "(0020, 0037) Image Orientation (Patient)         DS: ['0.99997338836708', '0.00675191724179', '0.00276300040318', '-0.0067489364497', '0.99997663516461', '-0.0010867297991']\n",
      "(0020, 0052) Frame of Reference UID              UI: 1.2.276.0.20.1.30.4.152426479098.1760.1479378616.406250\n",
      "(0020, 1040) Position Reference Indicator        LO: ''\n",
      "(0028, 0002) Samples per Pixel                   US: 1\n",
      "(0028, 0004) Photometric Interpretation          CS: 'MONOCHROME2'\n",
      "(0028, 0010) Rows                                US: 512\n",
      "(0028, 0011) Columns                             US: 512\n",
      "(0028, 0030) Pixel Spacing                       DS: ['0.740234375', '0.740234375']\n",
      "(0028, 0100) Bits Allocated                      US: 16\n",
      "(0028, 0101) Bits Stored                         US: 16\n",
      "(0028, 0102) High Bit                            US: 15\n",
      "(0028, 0103) Pixel Representation                US: 0\n",
      "(0028, 1050) Window Center                       DS: '30'\n",
      "(0028, 1051) Window Width                        DS: '110'\n",
      "(0028, 1052) Rescale Intercept                   DS: '-1024'\n",
      "(0028, 1053) Rescale Slope                       DS: '1'\n",
      "(7fe0, 0010) Pixel Data                          OW: Array of 524288 bytes\n"
     ]
    }
   ],
   "source": [
    "# Get ref file\n",
    "RefDs = dicom.read_file(lstFilesDCM[0])\n",
    "print(RefDs)"
   ]
  },
  {
   "cell_type": "code",
   "execution_count": 31,
   "metadata": {
    "collapsed": false
   },
   "outputs": [
    {
     "name": "stdout",
     "output_type": "stream",
     "text": [
      "AVBRYTA !\n"
     ]
    },
    {
     "ename": "SystemExit",
     "evalue": "1",
     "output_type": "error",
     "traceback": [
      "An exception has occurred, use %tb to see the full traceback.\n",
      "\u001b[0;31mSystemExit\u001b[0m\u001b[0;31m:\u001b[0m 1\n"
     ]
    }
   ],
   "source": [
    "import sys\n",
    "import gdcm\n",
    "\n",
    "\n",
    "if __name__ == \"__main__\":\n",
    "\n",
    "  file1 = sys.argv[1]\n",
    "  file2 = sys.argv[2]\n",
    "\n",
    "  r = gdcm.Reader()\n",
    "  r.SetFileName( file1 )\n",
    "  if not r.Read():\n",
    "    print 'AVBRYTA !'\n",
    "    sys.exit(1)\n",
    "\n",
    "  ano = gdcm.Anonymizer()\n",
    "  ano.SetFile( r.GetFile() )\n",
    "  ano.RemovePrivateTags()\n",
    "  ano.Remove( gdcm.Tag(0x0032,0x1030) )\n",
    "  ano.Remove( gdcm.Tag(0x008,0x14) )\n",
    "  ano.Remove( gdcm.Tag(0x008,0x1111) )\n",
    "  ano.Remove( gdcm.Tag(0x008,0x1120) )\n",
    "  ano.Remove( gdcm.Tag(0x008,0x1140) )\n",
    "  ano.Remove( gdcm.Tag(0x10,0x21b0) )\n",
    "  ano.Empty( gdcm.Tag(0x10,0x10) )\n",
    "  ano.Empty( gdcm.Tag(0x10,0x20) )\n",
    "  ano.Empty( gdcm.Tag(0x10,0x30) )\n",
    "  ano.Empty( gdcm.Tag(0x20,0x10) )\n",
    "  ano.Empty( gdcm.Tag(0x32,0x1032) )\n",
    "  ano.Empty( gdcm.Tag(0x32,0x1033) )\n",
    "  ano.Empty( gdcm.Tag(0x40,0x241) )\n",
    "  ano.Empty( gdcm.Tag(0x40,0x254) )\n",
    "  ano.Empty( gdcm.Tag(0x40,0x253) )\n",
    "  ano.Empty( gdcm.Tag(0x40,0x1001) )\n",
    "  ano.Empty( gdcm.Tag(0x8,0x80) )\n",
    "  ano.Empty( gdcm.Tag(0x8,0x50) )\n",
    "  ano.Empty( gdcm.Tag(0x8,0x1030) )\n",
    "  ano.Empty( gdcm.Tag(0x8,0x103e) )\n",
    "  ano.Empty( gdcm.Tag(0x18,0x1030) )\n",
    "  ano.Empty( gdcm.Tag(0x38,0x300) )\n",
    "  g = gdcm.UIDGenerator()\n",
    "  ano.Replace( gdcm.Tag(0x0008,0x0018), g.Generate() )\n",
    "  ano.Replace( gdcm.Tag(0x0020,0x00d), g.Generate() )\n",
    "  ano.Replace( gdcm.Tag(0x0020,0x00e), g.Generate() )\n",
    "  ano.Replace( gdcm.Tag(0x0020,0x052), g.Generate() )\n",
    "  #ano.Replace( gdcm.Tag(0x0008,0x0016), \"1.2.840.10008.5.1.4.1.1.7.2\" )\n",
    "  \"\"\"\n",
    "  ano.Remove( gdcm.Tag(0x0018,0x0050) ) # SliceThickness\n",
    "  ano.Remove( gdcm.Tag(0x0018,0x0080) ) # RepetitionTime\n",
    "  ano.Remove( gdcm.Tag(0x0018,0x0081) ) # EchoTime\n",
    "  ano.Remove( gdcm.Tag(0x0018,0x0088) ) # SpacingBetweenSlices\n",
    "  ano.Remove( gdcm.Tag(0x0018,0x0091) ) # EchoTrainLength\n",
    "  ano.Remove( gdcm.Tag(0x0018,0x1164) ) # ImagerPixelSpacing\n",
    "\n",
    "  ano.Remove( gdcm.Tag(0x0020,0x0032) ) # Image Position (Patient)\n",
    "  ano.Remove( gdcm.Tag(0x0020,0x0037) ) # Image Orientation (Patient)\n",
    "  ano.Remove( gdcm.Tag(0x0020,0x0052) ) # Frame of Reference UID\n",
    "  ano.Remove( gdcm.Tag(0x0020,0x1040) ) # Position Reference Indicator\n",
    "\n",
    "  ano.Replace( gdcm.Tag(0x0028,0x0301), \"NO\" ) # Burned In Annotation\n",
    "\n",
    "  ano.Empty( gdcm.Tag(0x0020,0x0020) )\n",
    "\n",
    "  ano.Remove( gdcm.Tag(0x7fe0,0x0000) )\n",
    "\n",
    "  #ano.Empty( gdcm.Tag(0x0028,0x0009) ) # Frame Increment Pointer\n",
    "\n",
    "  #ano.Empty( gdcm.Tag(0x0028,0x1052) )  #<entry group=\"0028\" element=\"1052\" vr=\"DS\" vm=\"1\" name=\"Rescale Intercept\"/>\n",
    "  #ano.Empty( gdcm.Tag(0x0028,0x1053) )  #<entry group=\"0028\" element=\"1053\" vr=\"DS\" vm=\"1\" name=\"Rescale Slope\"/>\n",
    "  #ano.Replace( gdcm.Tag(0x0028,0x1054), \"US\" )  #<entry group=\"0028\" element=\"1054\" vr=\"LO\" vm=\"1\" name=\"Rescale Type\"/>\n",
    "\n",
    "  ano.Replace( gdcm.Tag(0x2050, 0x0020), \"IDENTITY\")\n",
    "  \"\"\"\n",
    "\n",
    "  w = gdcm.Writer()\n",
    "  w.SetFile( ano.GetFile() )\n",
    "  w.SetFileName( file2 )\n",
    "  if not w.Write():\n",
    "    sys.exit(1)"
   ]
  },
  {
   "cell_type": "code",
   "execution_count": 12,
   "metadata": {
    "collapsed": false
   },
   "outputs": [
    {
     "name": "stdout",
     "output_type": "stream",
     "text": [
      "success !\n",
      "NumberOfDimensions: 2\n",
      "Dimensions: (512,512,1)\n",
      "SamplesPerPixel    :1\n",
      "BitsAllocated      :16\n",
      "BitsStored         :16\n",
      "HighBit            :15\n",
      "PixelRepresentation:0\n",
      "ScalarType found   :UINT16\n",
      "PhotometricInterpretation: MONOCHROME2 \n",
      "PlanarConfiguration: 0\n",
      "TransferSyntax: 1.2.840.10008.1.2.1\n",
      "Origin: (-186.079,-192.426,-64.4251)\n",
      "Spacing: (0.740234,0.740234,1)\n",
      "DirectionCosines: (0.999973,0.00675192,0.002763,-0.00674894,0.999977,-0.00108673)\n",
      "Rescale Intercept/Slope: (-1024,1)\n",
      "\n"
     ]
    },
    {
     "ename": "NameError",
     "evalue": "name 'r' is not defined",
     "output_type": "error",
     "traceback": [
      "\u001b[0;31m---------------------------------------------------------------------------\u001b[0m",
      "\u001b[0;31mNameError\u001b[0m                                 Traceback (most recent call last)",
      "\u001b[0;32m<ipython-input-12-700d51c47351>\u001b[0m in \u001b[0;36m<module>\u001b[0;34m()\u001b[0m\n\u001b[1;32m      6\u001b[0m \u001b[0;34m\u001b[0m\u001b[0m\n\u001b[1;32m      7\u001b[0m \u001b[0mf\u001b[0m \u001b[0;34m=\u001b[0m \u001b[0mgdcm\u001b[0m\u001b[0;34m.\u001b[0m\u001b[0mPythonFilter\u001b[0m\u001b[0;34m(\u001b[0m\u001b[0;34m)\u001b[0m\u001b[0;34m\u001b[0m\u001b[0m\n\u001b[0;32m----> 8\u001b[0;31m \u001b[0mf\u001b[0m\u001b[0;34m.\u001b[0m\u001b[0mSetFile\u001b[0m\u001b[0;34m(\u001b[0m \u001b[0mr\u001b[0m\u001b[0;34m.\u001b[0m\u001b[0mGetFile\u001b[0m\u001b[0;34m(\u001b[0m\u001b[0;34m)\u001b[0m \u001b[0;34m)\u001b[0m\u001b[0;34m\u001b[0m\u001b[0m\n\u001b[0m\u001b[1;32m      9\u001b[0m \u001b[0mt\u001b[0m \u001b[0;34m=\u001b[0m \u001b[0mgdcm\u001b[0m\u001b[0;34m.\u001b[0m\u001b[0mTag\u001b[0m\u001b[0;34m(\u001b[0m \u001b[0;36m0x28\u001b[0m\u001b[0;34m,\u001b[0m \u001b[0;36m0x1052\u001b[0m \u001b[0;34m)\u001b[0m\u001b[0;34m\u001b[0m\u001b[0m\n\u001b[1;32m     10\u001b[0m \u001b[0;32mprint\u001b[0m \u001b[0mf\u001b[0m\u001b[0;34m.\u001b[0m\u001b[0mToPyObject\u001b[0m\u001b[0;34m(\u001b[0m \u001b[0mt\u001b[0m \u001b[0;34m)\u001b[0m\u001b[0;34m\u001b[0m\u001b[0m\n",
      "\u001b[0;31mNameError\u001b[0m: name 'r' is not defined"
     ]
    }
   ],
   "source": [
    "reader = gdcm.ImageReader()\n",
    "reader.SetFileName(lstFilesDCM[0])\n",
    "if reader.Read():\n",
    "  print \"success !\" # We know now that file is 1) DICOM file & 2) contains an image\n",
    "  print reader.GetImage()\n",
    "    \n",
    "f = gdcm.PythonFilter()\n",
    "f.SetFile( r.GetFile() )\n",
    "t = gdcm.Tag( 0x28, 0x1052 )\n",
    "print f.ToPyObject( t )"
   ]
  }
 ],
 "metadata": {
  "kernelspec": {
   "display_name": "Python 2",
   "language": "python",
   "name": "python2"
  },
  "language_info": {
   "codemirror_mode": {
    "name": "ipython",
    "version": 2
   },
   "file_extension": ".py",
   "mimetype": "text/x-python",
   "name": "python",
   "nbconvert_exporter": "python",
   "pygments_lexer": "ipython2",
   "version": "2.7.12"
  }
 },
 "nbformat": 4,
 "nbformat_minor": 2
}
